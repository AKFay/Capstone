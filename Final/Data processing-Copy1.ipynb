{
 "cells": [
  {
   "cell_type": "markdown",
   "id": "cd11ac94",
   "metadata": {},
   "source": [
    "## Import libraries"
   ]
  },
  {
   "cell_type": "code",
   "execution_count": 1,
   "id": "4cee9122",
   "metadata": {},
   "outputs": [],
   "source": [
    "import pandas as pd\n",
    "import numpy as np\n",
    "from fastprogress.fastprogress import progress_bar\n",
    "import requests\n",
    "from zipfile import ZipFile\n",
    "from io import BytesIO\n",
    "import os\n"
   ]
  },
  {
   "cell_type": "markdown",
   "id": "720129a6",
   "metadata": {},
   "source": [
    "## Data collection"
   ]
  },
  {
   "cell_type": "code",
   "execution_count": 2,
   "id": "7ee4bfec",
   "metadata": {},
   "outputs": [],
   "source": [
    "# read in gdsc1 and gdsc2 files directly from the website\n",
    "# save locally\n",
    "\n",
    "def import_files():\n",
    "    r = requests.get('https://cog.sanger.ac.uk/cancerrxgene/GDSC_release8.4/GDSC1_public_raw_data_24Jul22.csv.zip')\n",
    "    files = ZipFile(BytesIO(r.content))\n",
    "    gdsc1 = pd.read_csv(files.open('GDSC1_public_raw_data_24Jul22.csv'))\n",
    "\n",
    "    r = requests.get('https://cog.sanger.ac.uk/cancerrxgene/GDSC_release8.4/GDSC2_public_raw_data_24Jul22.csv.zip')\n",
    "    files = ZipFile(BytesIO(r.content))\n",
    "    gdsc2 = pd.read_csv(files.open('GDSC2_public_raw_data_24Jul22.csv'))\n",
    "    \n",
    "    if os.path.exists('data') == False:\n",
    "        os.makedirs('data')\n",
    "    gdsc1.to_csv('data/gdsc1.csv', index=False)\n",
    "    gdsc2.to_csv('data/gdsc2.csv', index=False)\n",
    "    \n",
    "    return gdsc1, gdsc2"
   ]
  },
  {
   "cell_type": "code",
   "execution_count": 3,
   "id": "0d27457f",
   "metadata": {},
   "outputs": [
    {
     "name": "stderr",
     "output_type": "stream",
     "text": [
      "/var/folders/nn/zyrgwx2n2kz51m6jgsh64jv00000gn/T/ipykernel_80663/2933631254.py:7: DtypeWarning: Columns (1) have mixed types. Specify dtype option on import or set low_memory=False.\n",
      "  gdsc1 = pd.read_csv(files.open('GDSC1_public_raw_data_24Jul22.csv'))\n"
     ]
    }
   ],
   "source": [
    "gdsc1, gdsc2 = import_files()"
   ]
  },
  {
   "cell_type": "markdown",
   "id": "8083de5c",
   "metadata": {},
   "source": [
    "## Data processing"
   ]
  },
  {
   "cell_type": "code",
   "execution_count": 4,
   "id": "4a09b248",
   "metadata": {},
   "outputs": [],
   "source": [
    "# load gdsc1 and gdsc2 files\n",
    "\n",
    "def load_data(gdsc1, gdsc2):\n",
    "    \n",
    "    gdsc = pd.concat([gdsc1, gdsc2])\n",
    "    gdsc.drop_duplicates(inplace=True)\n",
    "    \n",
    "    return gdsc"
   ]
  },
  {
   "cell_type": "code",
   "execution_count": 5,
   "id": "5f9f721e",
   "metadata": {},
   "outputs": [],
   "source": [
    "gdsc = load_data(gdsc1, gdsc2)"
   ]
  },
  {
   "cell_type": "code",
   "execution_count": 6,
   "id": "3300dc1a",
   "metadata": {},
   "outputs": [],
   "source": [
    "# figure out which conditions have 3 or more replicates\n",
    "\n",
    "def find_replicates(gdsc):\n",
    "    # unique plate, cell line, tag, drug, assay, seeding density, duration, and concentrations\n",
    "    replicates = pd.DataFrame(gdsc[['DRUGSET_ID','CELL_ID','TAG','DRUG_ID','ASSAY','SEEDING_DENSITY','DURATION','CONC']].value_counts(dropna=False))\n",
    "    replicates = replicates.reset_index()\n",
    "    replicates.rename(columns={0:'replicates'}, inplace=True)\n",
    "\n",
    "    # remove conc column and drop duplicates so it's essentially only counting replicates for one conc\n",
    "    replicates.drop(['CONC'], axis=1, inplace=True)\n",
    "    replicates.drop_duplicates(inplace=True)\n",
    "\n",
    "    # only keep 3 or more replicates\n",
    "    replicates = replicates[replicates['replicates']>2]\n",
    "    \n",
    "    # remove samples we don't need\n",
    "    replicates = replicates[replicates['TAG']!='DMSO']\n",
    "    replicates = replicates[replicates['TAG']!='B']\n",
    "    replicates = replicates[replicates['TAG']!='UN-USED']\n",
    "    replicates = replicates[replicates['TAG']!='NC-1']\n",
    "    \n",
    "    # make a list for indexing the file_combo and dropping rows we don't need\n",
    "    rep_ind = []\n",
    "\n",
    "    for i in progress_bar(replicates.index):\n",
    "        index = replicates.loc[i]\n",
    "        rep_ind.append((index['DRUGSET_ID'], index['CELL_ID'], index['DRUG_ID'], index['TAG'], index['SEEDING_DENSITY'], index['ASSAY'], index['DURATION']))\n",
    "    \n",
    "    # make a new file that just has the data in replicate form \n",
    "    rep_file = gdsc.set_index(['DRUGSET_ID','CELL_ID','DRUG_ID','TAG','SEEDING_DENSITY','ASSAY','DURATION']).copy()\n",
    "    rep_file = rep_file.loc[rep_ind]\n",
    "    rep_file.reset_index(inplace=True)\n",
    "    \n",
    "    # save locally\n",
    "    if os.path.exists('data') == False:\n",
    "        os.makedirs('data')\n",
    "    rep_file.to_csv('data/replicates.csv', index=False)\n",
    "\n",
    "    return rep_file\n"
   ]
  },
  {
   "cell_type": "code",
   "execution_count": 7,
   "id": "ee5af88f",
   "metadata": {},
   "outputs": [
    {
     "data": {
      "text/html": [
       "\n",
       "<style>\n",
       "    /* Turns off some styling */\n",
       "    progress {\n",
       "        /* gets rid of default border in Firefox and Opera. */\n",
       "        border: none;\n",
       "        /* Needs to be in here for Safari polyfill so background images work as expected. */\n",
       "        background-size: auto;\n",
       "    }\n",
       "    progress:not([value]), progress:not([value])::-webkit-progress-bar {\n",
       "        background: repeating-linear-gradient(45deg, #7e7e7e, #7e7e7e 10px, #5c5c5c 10px, #5c5c5c 20px);\n",
       "    }\n",
       "    .progress-bar-interrupted, .progress-bar-interrupted::-webkit-progress-bar {\n",
       "        background: #F44336;\n",
       "    }\n",
       "</style>\n"
      ],
      "text/plain": [
       "<IPython.core.display.HTML object>"
      ]
     },
     "metadata": {},
     "output_type": "display_data"
    },
    {
     "data": {
      "text/html": [
       "\n",
       "    <div>\n",
       "      <progress value='301819' class='' max='301819' style='width:300px; height:20px; vertical-align: middle;'></progress>\n",
       "      100.00% [301819/301819 00:20&lt;00:00]\n",
       "    </div>\n",
       "    "
      ],
      "text/plain": [
       "<IPython.core.display.HTML object>"
      ]
     },
     "metadata": {},
     "output_type": "display_data"
    }
   ],
   "source": [
    "replicates = find_replicates(gdsc)"
   ]
  },
  {
   "cell_type": "code",
   "execution_count": 8,
   "id": "7304aa76",
   "metadata": {},
   "outputs": [],
   "source": [
    "# limit data to only those conditions with triplicates\n",
    "# for the replicates greater than 3, batch into triplicates\n",
    "\n",
    "def make_triplicates(replicates):\n",
    "    triplicates_df = pd.DataFrame()\n",
    "\n",
    "    # narrow dataset down to each plate, cell line, assay, duration, seeding density, and drug\n",
    "    for plate in progress_bar(replicates['DRUGSET_ID'].unique()):\n",
    "        df = replicates[replicates['DRUGSET_ID']==plate].copy()\n",
    "        for cell in df['CELL_ID'].unique():\n",
    "            df2 = df[df['CELL_ID']==cell].copy()\n",
    "            for assay in df2['ASSAY'].unique():\n",
    "                df3 = df2[df2['ASSAY']==assay].copy()\n",
    "                for duration in df3['DURATION'].unique():\n",
    "                    df4 = df3[df3['DURATION']==duration].copy()\n",
    "                    for seeding in df4['SEEDING_DENSITY'].unique():\n",
    "                        df5 = df4[df4['SEEDING_DENSITY']==seeding].copy()\n",
    "                        for drug in df5['DRUG_ID'].unique():\n",
    "                            df6 = df5[df5['DRUG_ID']==drug].copy()\n",
    "                        \n",
    "                            # find the number of replicates per concentration\n",
    "                            df7 = pd.DataFrame(df6[['DRUGSET_ID','CELL_ID','ASSAY','DURATION','SEEDING_DENSITY','DRUG_ID','CONC']].value_counts())\n",
    "                            df7.reset_index(inplace=True)\n",
    "                            df7.rename(columns={0:'counts'}, inplace=True)\n",
    "                        \n",
    "                            # make sure there are at least 5 concentrations\n",
    "                            if len(df7) > 4:\n",
    "                            \n",
    "                                # if all of the concentrations have three replicates, add to triplicates_df\n",
    "                                if False not in list(df7['counts']==3):\n",
    "                                \n",
    "                                    #default batch number is 0\n",
    "                                    df6['batch'] = 0\n",
    "                                    triplicates_df = pd.concat([triplicates_df, df6])\n",
    "                                \n",
    "                                # if all the concentrations are not in triplicates already, batch them into threes\n",
    "                                else:\n",
    "                                \n",
    "                                    # find the number of batches of 3 from the minimum number of replicates\n",
    "                                    multiple = df7['counts'].min()//3\n",
    "                                \n",
    "                                    # make the list of batches\n",
    "                                    batches = list(range(3, (multiple*3)+1, 3))\n",
    "                                \n",
    "                                    # for every concentration, make batches of three and add to triplicates_df\n",
    "                                    for conc in df6['CONC'].unique():\n",
    "                                        df8 = df6[df6['CONC']==conc].copy()\n",
    "                                        for batch in batches:\n",
    "                                            df9 = df8[batch-3:batch].copy()\n",
    "                                            df9['batch'] = batch\n",
    "                                            triplicates_df = pd.concat([triplicates_df, df9])\n",
    "    # save locally\n",
    "    if os.path.exists('data') == False:\n",
    "        os.makedirs('data')\n",
    "    triplicates_df.to_csv('data/triplicates.csv', index=False)\n",
    "    \n",
    "    return triplicates_df"
   ]
  },
  {
   "cell_type": "code",
   "execution_count": 9,
   "id": "79b9046a",
   "metadata": {},
   "outputs": [
    {
     "data": {
      "text/html": [
       "\n",
       "<style>\n",
       "    /* Turns off some styling */\n",
       "    progress {\n",
       "        /* gets rid of default border in Firefox and Opera. */\n",
       "        border: none;\n",
       "        /* Needs to be in here for Safari polyfill so background images work as expected. */\n",
       "        background-size: auto;\n",
       "    }\n",
       "    progress:not([value]), progress:not([value])::-webkit-progress-bar {\n",
       "        background: repeating-linear-gradient(45deg, #7e7e7e, #7e7e7e 10px, #5c5c5c 10px, #5c5c5c 20px);\n",
       "    }\n",
       "    .progress-bar-interrupted, .progress-bar-interrupted::-webkit-progress-bar {\n",
       "        background: #F44336;\n",
       "    }\n",
       "</style>\n"
      ],
      "text/plain": [
       "<IPython.core.display.HTML object>"
      ]
     },
     "metadata": {},
     "output_type": "display_data"
    },
    {
     "data": {
      "text/html": [
       "\n",
       "    <div>\n",
       "      <progress value='230' class='' max='230' style='width:300px; height:20px; vertical-align: middle;'></progress>\n",
       "      100.00% [230/230 3:20:29&lt;00:00]\n",
       "    </div>\n",
       "    "
      ],
      "text/plain": [
       "<IPython.core.display.HTML object>"
      ]
     },
     "metadata": {},
     "output_type": "display_data"
    }
   ],
   "source": [
    "triplicates = make_triplicates(replicates)"
   ]
  },
  {
   "cell_type": "markdown",
   "id": "e6f448c6",
   "metadata": {},
   "source": [
    "## Normalization"
   ]
  },
  {
   "cell_type": "code",
   "execution_count": 10,
   "id": "a98837ac",
   "metadata": {},
   "outputs": [],
   "source": [
    "# normalize the intensity values for every plate and cell line using the NC-0 control\n",
    "\n",
    "def data_normalization(triplicates):\n",
    "    data_norm = pd.DataFrame()\n",
    "\n",
    "    for plate in progress_bar(triplicates['DRUGSET_ID'].unique()):\n",
    "        df = triplicates[triplicates['DRUGSET_ID']==plate].copy()\n",
    "        for cell in df['CELL_ID'].unique():\n",
    "            df2 = df[df['CELL_ID']==cell].copy()\n",
    "            df2['norm_intensity'] = df2['INTENSITY'] / df2[df2['TAG']=='NC-0']['INTENSITY'].mean()\n",
    "            data_norm = pd.concat([data_norm, df2])\n",
    "    \n",
    "    data_norm = data_norm[data_norm['TAG']!='NC-0']\n",
    "    \n",
    "    if os.path.exists('data') == False:\n",
    "        os.makedirs('data')  \n",
    "    data_norm.to_csv('data/triplicates_normalized.csv', index=False)\n",
    "    \n",
    "    return data_norm"
   ]
  },
  {
   "cell_type": "code",
   "execution_count": 11,
   "id": "f8a7fa44",
   "metadata": {},
   "outputs": [
    {
     "data": {
      "text/html": [
       "\n",
       "<style>\n",
       "    /* Turns off some styling */\n",
       "    progress {\n",
       "        /* gets rid of default border in Firefox and Opera. */\n",
       "        border: none;\n",
       "        /* Needs to be in here for Safari polyfill so background images work as expected. */\n",
       "        background-size: auto;\n",
       "    }\n",
       "    progress:not([value]), progress:not([value])::-webkit-progress-bar {\n",
       "        background: repeating-linear-gradient(45deg, #7e7e7e, #7e7e7e 10px, #5c5c5c 10px, #5c5c5c 20px);\n",
       "    }\n",
       "    .progress-bar-interrupted, .progress-bar-interrupted::-webkit-progress-bar {\n",
       "        background: #F44336;\n",
       "    }\n",
       "</style>\n"
      ],
      "text/plain": [
       "<IPython.core.display.HTML object>"
      ]
     },
     "metadata": {},
     "output_type": "display_data"
    },
    {
     "data": {
      "text/html": [
       "\n",
       "    <div>\n",
       "      <progress value='114' class='' max='114' style='width:300px; height:20px; vertical-align: middle;'></progress>\n",
       "      100.00% [114/114 05:37&lt;00:00]\n",
       "    </div>\n",
       "    "
      ],
      "text/plain": [
       "<IPython.core.display.HTML object>"
      ]
     },
     "metadata": {},
     "output_type": "display_data"
    }
   ],
   "source": [
    "data_norm = data_normalization(triplicates)"
   ]
  },
  {
   "cell_type": "code",
   "execution_count": null,
   "id": "cf0e8e41",
   "metadata": {},
   "outputs": [],
   "source": []
  }
 ],
 "metadata": {
  "celltoolbar": "Raw Cell Format",
  "kernelspec": {
   "display_name": "Python 3 (ipykernel)",
   "language": "python",
   "name": "python3"
  },
  "language_info": {
   "codemirror_mode": {
    "name": "ipython",
    "version": 3
   },
   "file_extension": ".py",
   "mimetype": "text/x-python",
   "name": "python",
   "nbconvert_exporter": "python",
   "pygments_lexer": "ipython3",
   "version": "3.10.4"
  }
 },
 "nbformat": 4,
 "nbformat_minor": 5
}
